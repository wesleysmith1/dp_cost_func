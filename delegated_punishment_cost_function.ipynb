{
 "cells": [
  {
   "cell_type": "code",
   "execution_count": 5,
   "id": "69dc211f",
   "metadata": {},
   "outputs": [],
   "source": [
    "import numpy as np"
   ]
  },
  {
   "cell_type": "code",
   "execution_count": 6,
   "id": "3e8158a5",
   "metadata": {},
   "outputs": [],
   "source": [
    "def mean(l):\n",
    "    return sum(l)/len(l)\n",
    "\n",
    "def calculate_thetas(E,gam, n):\n",
    "    \"\"\"return list of thetas\"\"\"\n",
    "    results = []\n",
    "    for i, e_i in enumerate(E):\n",
    "        copy = E.copy()\n",
    "        E_others = np.delete(copy, i)\n",
    "        \n",
    "        theta = sum([e_j - (1/(n-1)) * sum(E_others) for e_j in E_others])\n",
    "        \n",
    "        theta *= (gam/2)*(1/(n-2))\n",
    "        \n",
    "        results.append(theta)\n",
    "    return results\n",
    "\n",
    "def cost_fun(N, gam, e, qq, mechanism=\"OGL\"):\n",
    "    e = np.array(e)\n",
    "    n = len(e)\n",
    "    cost_baseshare = qq/N*sum(e)\n",
    "    cost_theta = np.array([])\n",
    "        \n",
    "    if mechanism == 'MPT':\n",
    "        cost = cost_baseshare\n",
    "    elif mechanism == 'MGL':        \n",
    "        cost_varpenalty = gam/2*(n/(n-1))*(e-mean(e))**2\n",
    "        cost = cost_baseshare + cost_varpenalty\n",
    "    elif mechanism == 'OGL':\n",
    "        cost_varpenalty = gam/2*(n/(n-1))*(e-mean(e))*2\n",
    "                \n",
    "        cost_theta = np.array(calculate_thetas(e, gam, n))\n",
    "        \n",
    "        print(f\"{cost_theta}\") \n",
    "    \n",
    "    cost = cost_baseshare + cost_varpenalty - cost_theta\n",
    "    \n",
    "    return cost        "
   ]
  },
  {
   "cell_type": "code",
   "execution_count": 7,
   "id": "0de4b8ee",
   "metadata": {},
   "outputs": [
    {
     "name": "stdout",
     "output_type": "stream",
     "text": [
      "Cost_baseshare: 2500.0\n",
      "cost_varpenalty: [150. -50. -50. -50.]\n",
      "[0 0 0]\n",
      "[10  0  0]\n",
      "[10  0  0]\n",
      "[10  0  0]\n",
      "[0.00000000e+00 3.33066907e-15 3.33066907e-15 3.33066907e-15]\n",
      "[2650. 2450. 2450. 2450.]\n"
     ]
    }
   ],
   "source": [
    "qq = 1000\n",
    "gam = 15\n",
    "n = N = 4\n",
    "e = [10,0,0,0]\n",
    "\n",
    "participant_costs = cost_fun(N, gam, e, qq, mechanism=\"OGL\")\n",
    "print(participant_costs)"
   ]
  }
 ],
 "metadata": {
  "kernelspec": {
   "display_name": "Python 3 (ipykernel)",
   "language": "python",
   "name": "python3"
  },
  "language_info": {
   "codemirror_mode": {
    "name": "ipython",
    "version": 3
   },
   "file_extension": ".py",
   "mimetype": "text/x-python",
   "name": "python",
   "nbconvert_exporter": "python",
   "pygments_lexer": "ipython3",
   "version": "3.7.13"
  }
 },
 "nbformat": 4,
 "nbformat_minor": 5
}
